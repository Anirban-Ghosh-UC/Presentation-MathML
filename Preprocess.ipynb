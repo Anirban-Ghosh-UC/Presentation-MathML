{
 "cells": [
  {
   "cell_type": "markdown",
   "id": "0e2070d0",
   "metadata": {},
   "source": [
    "# UPDATED CODE"
   ]
  },
  {
   "cell_type": "code",
   "execution_count": null,
   "id": "c8756979",
   "metadata": {},
   "outputs": [],
   "source": [
    "import re\n",
    "import csv\n",
    "f1=open(\"1.tsv\", \"r\", encoding ='utf-8')\n",
    "# x = f1.readlines()[3]\n",
    "# print(x)\n",
    "\n",
    "with open('./1new.txt', 'w+',encoding ='utf-8') as f2:\n",
    "    f2.truncate(0)\n",
    "    #writer = csv.writer(f2)\n",
    "    f=f1.readlines()\n",
    "    for x in f:\n",
    "        result=re.sub('<?xml.*?display=\"\"block\"\">','',x,flags=re.DOTALL)\n",
    "        result1=re.sub('<mo.*?>','<mo>',result,flags=re.DOTALL)\n",
    "        result2=re.sub('\"<?','<math>',result1,flags=re.DOTALL)\n",
    "        result3=re.sub('<math>.*?<','<math><',result2,flags=re.DOTALL)\n",
    "        result4=re.sub('</math><math>','</math>',result3,flags=re.DOTALL)\n",
    "        result5=re.sub('<mi class=<math><math>ltx_font_mathcaligraphic<math><math>>','<mi>',result4,flags=re.DOTALL)\n",
    "        result6=re.sub('<mi mathvariant=<math><math>normal<math><math>>','<mi>',result5,flags=re.DOTALL) \n",
    "        result7=re.sub('<merror.*?</merror>','',result6,flags=re.DOTALL)\n",
    "        result8=re.sub('<mpadded.*?<math>>','',result7,flags=re.DOTALL)\n",
    "        result9=re.sub('</mpadded>','',result8,flags=re.DOTALL)\n",
    "        result10=re.sub('<mfrac.*?<math>>','<mfrac>',result9,flags=re.DOTALL)\n",
    "        result11=re.sub('<mspace.*?<math>/>','',result10,flags=re.DOTALL)\n",
    "        result12=re.sub('<mtable.*?<math>>','',result11,flags=re.DOTALL)\n",
    "        result13=re.sub('<mtd.*?<math>>','',result12,flags=re.DOTALL)\n",
    "        result14=re.sub('<mstyle.*?<math>>','',result13,flags=re.DOTALL)\n",
    "        result15=re.sub('</mstyle>','',result14,flags=re.DOTALL)\n",
    "        result16=re.sub('<mtr>','',result15,flags=re.DOTALL)\n",
    "        result17=re.sub('</mtr>','',result16,flags=re.DOTALL)\n",
    "        result18=re.sub('</mtd>','',result17,flags=re.DOTALL)\n",
    "        result19=re.sub('<math>','<math>  ',result18,flags=re.DOTALL)\n",
    "        result20=re.sub('</math>',' </math>',result19,flags=re.DOTALL)\n",
    "        result21=re.sub('<math>.*?<semantics>',' <semantics>',result20,flags=re.DOTALL)\n",
    "        result22=re.sub('</math>','',result21,flags=re.DOTALL)\n",
    "        result23=re.sub('<mrow>','',result22,flags=re.DOTALL)\n",
    "        result24=re.sub('</mrow>','',result23,flags=re.DOTALL)\n",
    "        f2.write(result24)\n",
    "f1.close() "
   ]
  },
  {
   "cell_type": "code",
   "execution_count": 1,
   "id": "dbb0c0a3",
   "metadata": {},
   "outputs": [],
   "source": [
    "import pandas as pd\n",
    "df = pd.read_csv('./1_new.txt',sep='\\t')\n",
    "df = df.drop(df[(df.issue == 'd') | (df.issue == 'dv')].index)\n",
    "df.to_csv('./preprocessed.csv', index = None)"
   ]
  }
 ],
 "metadata": {
  "kernelspec": {
   "display_name": "Python 3 (ipykernel)",
   "language": "python",
   "name": "python3"
  },
  "language_info": {
   "codemirror_mode": {
    "name": "ipython",
    "version": 3
   },
   "file_extension": ".py",
   "mimetype": "text/x-python",
   "name": "python",
   "nbconvert_exporter": "python",
   "pygments_lexer": "ipython3",
   "version": "3.9.7"
  }
 },
 "nbformat": 4,
 "nbformat_minor": 5
}
